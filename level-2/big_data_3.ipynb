{
  "nbformat": 4,
  "nbformat_minor": 0,
  "metadata": {
    "colab": {
      "name": "big_data_3.ipynb",
      "provenance": [],
      "collapsed_sections": []
    },
    "kernelspec": {
      "name": "python3",
      "display_name": "Python 3"
    },
    "language_info": {
      "name": "python"
    }
  },
  "cells": [
    {
      "cell_type": "code",
      "execution_count": 156,
      "metadata": {
        "colab": {
          "base_uri": "https://localhost:8080/"
        },
        "id": "Y4cx6vaoKCwX",
        "outputId": "057d9af0-7176-4382-d438-26625a77114e"
      },
      "outputs": [
        {
          "output_type": "stream",
          "name": "stdout",
          "text": [
            "Get:1 http://security.ubuntu.com/ubuntu bionic-security InRelease [88.7 kB]\n",
            "Hit:2 http://archive.ubuntu.com/ubuntu bionic InRelease\n",
            "Hit:3 https://developer.download.nvidia.com/compute/cuda/repos/ubuntu1804/x86_64  InRelease\n",
            "Get:4 https://cloud.r-project.org/bin/linux/ubuntu bionic-cran40/ InRelease [3,626 B]\n",
            "Get:5 http://archive.ubuntu.com/ubuntu bionic-updates InRelease [88.7 kB]\n",
            "Ign:6 https://developer.download.nvidia.com/compute/machine-learning/repos/ubuntu1804/x86_64  InRelease\n",
            "Hit:7 http://ppa.launchpad.net/c2d4u.team/c2d4u4.0+/ubuntu bionic InRelease\n",
            "Hit:8 https://developer.download.nvidia.com/compute/machine-learning/repos/ubuntu1804/x86_64  Release\n",
            "Get:9 http://archive.ubuntu.com/ubuntu bionic-backports InRelease [74.6 kB]\n",
            "Hit:10 http://ppa.launchpad.net/cran/libgit2/ubuntu bionic InRelease\n",
            "Hit:11 http://ppa.launchpad.net/deadsnakes/ppa/ubuntu bionic InRelease\n",
            "Hit:12 http://ppa.launchpad.net/graphics-drivers/ppa/ubuntu bionic InRelease\n",
            "Fetched 256 kB in 4s (59.6 kB/s)\n",
            "Reading package lists... Done\n"
          ]
        }
      ],
      "source": [
        "import os\n",
        "# Find the latest version of spark 3.0  from http://www.apache.org/dist/spark/ and enter as the spark version\n",
        "# For example:\n",
        "# spark_version = 'spark-3.0.3'\n",
        "spark_version = 'spark-3.2.1'\n",
        "os.environ['SPARK_VERSION']=spark_version\n",
        "\n",
        "# Install Spark and Java\n",
        "!apt-get update\n",
        "!apt-get install openjdk-8-jdk-headless -qq > /dev/null\n",
        "!wget -q http://www.apache.org/dist/spark/$SPARK_VERSION/$SPARK_VERSION-bin-hadoop2.7.tgz\n",
        "!tar xf $SPARK_VERSION-bin-hadoop2.7.tgz\n",
        "!pip install -q findspark\n",
        "\n",
        "# Set Environment Variables\n",
        "os.environ[\"JAVA_HOME\"] = \"/usr/lib/jvm/java-8-openjdk-amd64\"\n",
        "os.environ[\"SPARK_HOME\"] = f\"/content/{spark_version}-bin-hadoop2.7\"\n",
        "\n",
        "# Start a SparkSession\n",
        "import findspark\n",
        "findspark.init()"
      ]
    },
    {
      "cell_type": "code",
      "execution_count": 157,
      "metadata": {
        "colab": {
          "base_uri": "https://localhost:8080/"
        },
        "id": "xISV-9eR6Yah",
        "outputId": "44406d34-d103-4cc2-cf11-fe83b95de2b7"
      },
      "outputs": [
        {
          "output_type": "stream",
          "name": "stdout",
          "text": [
            "--2022-05-15 18:35:35--  https://jdbc.postgresql.org/download/postgresql-42.2.9.jar\n",
            "Resolving jdbc.postgresql.org (jdbc.postgresql.org)... 72.32.157.228, 2001:4800:3e1:1::228\n",
            "Connecting to jdbc.postgresql.org (jdbc.postgresql.org)|72.32.157.228|:443... connected.\n",
            "HTTP request sent, awaiting response... 200 OK\n",
            "Length: 914037 (893K) [application/java-archive]\n",
            "Saving to: ‘postgresql-42.2.9.jar.5’\n",
            "\n",
            "postgresql-42.2.9.j 100%[===================>] 892.61K  5.67MB/s    in 0.2s    \n",
            "\n",
            "2022-05-15 18:35:35 (5.67 MB/s) - ‘postgresql-42.2.9.jar.5’ saved [914037/914037]\n",
            "\n"
          ]
        }
      ],
      "source": [
        "!wget https://jdbc.postgresql.org/download/postgresql-42.2.9.jar"
      ]
    },
    {
      "cell_type": "code",
      "source": [
        "from pyspark.sql import SparkSession\n",
        "spark = SparkSession.builder.appName(\"CloudETL\").config(\"spark.driver.extraClassPath\",\"/content/postgresql-42.2.9.jar\").getOrCreate()"
      ],
      "metadata": {
        "id": "L-E72q9mKxfv"
      },
      "execution_count": 158,
      "outputs": []
    },
    {
      "cell_type": "code",
      "source": [
        "# Read in data from S3 Buckets\n",
        "from pyspark import SparkFiles\n",
        "url=\"https://s3.amazonaws.com/amazon-reviews-pds/tsv/amazon_reviews_us_Software_v1_00.tsv.gz\"\n",
        "spark.sparkContext.addFile(url)\n",
        "user_data_df = spark.read.csv(SparkFiles.get(\"amazon_reviews_us_Software_v1_00.tsv.gz\"), sep=\"\\t\", header=True, inferSchema=True)\n",
        "\n",
        "# Show DataFrame\n",
        "user_data_df.show()"
      ],
      "metadata": {
        "colab": {
          "base_uri": "https://localhost:8080/"
        },
        "id": "FxDO-DMDK5L_",
        "outputId": "0b8bb3a8-cfb3-4ef9-ed3c-604e2556cd01"
      },
      "execution_count": 159,
      "outputs": [
        {
          "output_type": "stream",
          "name": "stdout",
          "text": [
            "+-----------+-----------+--------------+----------+--------------+--------------------+----------------+-----------+-------------+-----------+----+-----------------+--------------------+--------------------+-----------+\n",
            "|marketplace|customer_id|     review_id|product_id|product_parent|       product_title|product_category|star_rating|helpful_votes|total_votes|vine|verified_purchase|     review_headline|         review_body|review_date|\n",
            "+-----------+-----------+--------------+----------+--------------+--------------------+----------------+-----------+-------------+-----------+----+-----------------+--------------------+--------------------+-----------+\n",
            "|         US|   42605767|R3EFW2STIYIY0I|B00MUTIDKI|     248732228|McAfee 2015 Inter...|        Software|          1|            2|          2|   N|                Y|I was very disapp...|I was very disapp...| 2015-08-31|\n",
            "|         US|   51771800|R12NR0R5A9F7FT|B00EPACNUG|     531462352|Hallmark Card Stu...|        Software|          5|            0|          0|   N|                Y|          Five Stars|I had a little st...| 2015-08-31|\n",
            "|         US|   16053526|R1LSH74R9XAP59|B00164AZA4|     473982505| Search and Rescue 4|        Software|          2|            0|          1|   N|                Y|    Have windows 10?|Tried to download...| 2015-08-31|\n",
            "|         US|   15319481|R1QXUNTF76K7L6|B00E6LIEFM|     189774198|      Quickbooks Pro|        Software|          2|            0|          0|   N|                Y|Disc was corrupt,...|Disc was corrupt,...| 2015-08-31|\n",
            "|         US|    1441820|R2F7DR75PS8NKT|B00VWEBG06|     852470365|Windows 7 Profess...|        Software|          5|            0|          0|   N|                Y|          Five Stars|Just what I neede...| 2015-08-31|\n",
            "|         US|   37107850|R2C1DJSCC8UFS6|B00EP7AP7C|     279360628|Family Tree Maker...|        Software|          3|            0|          0|   N|                Y|         Three Stars|Didn't like havin...| 2015-08-31|\n",
            "|         US|     302120|R1AXGS1W4YFXMX|B00OW2PET4|     729971168|World of Farming:...|        Software|          1|            0|          2|   N|                Y|            One Star|it does not work ...| 2015-08-31|\n",
            "|         US|   20193077|R1XU1B93402SYJ|B00N4OLCRO|     776572654|Photoshop Element...|        Software|          1|            1|          1|   N|                Y|Can't load to my ...|I have tried for ...| 2015-08-31|\n",
            "|         US|   13106017|R2U432NB3OPVR0|B005CELN8W|     222071424|Phantom EFX WMS S...|        Software|          5|            0|          0|   N|                Y|          Five Stars|       love the game| 2015-08-31|\n",
            "|         US|   32587108|R3R6FIMIOQ5SP9|B005CELL1G|     168801430|PaperPort Profess...|        Software|          5|            0|          0|   N|                Y|Meets our small b...|Great software. A...| 2015-08-31|\n",
            "|         US|   32020017|R12TX6V09C9QNQ|B00H09BOXQ|     455502995|Windows 7 Profess...|        Software|          5|            0|          0|   N|                Y|          Five Stars|             Awesome| 2015-08-31|\n",
            "|         US|   13376158|R33UCII6YKUMKV|B00MCLGAAO|     652069521| QuickBooks Pro 2015|        Software|          3|            2|          2|   N|                Y|Nothing New in Th...|To start this rev...| 2015-08-31|\n",
            "|         US|   47098110| RZKDAB9TGO053|B00P6U8C5Y|     871602905|Block Financial H...|        Software|          1|            0|          0|   N|                Y|Missing key infor...|Some key provisio...| 2015-08-31|\n",
            "|         US|   24083274|R2EMN2EEDN73ZA|B00MA5TPN6|     299038085|Parallels Desktop...|        Software|          4|            0|          0|   N|                Y|Probably the best...|Probably the best...| 2015-08-31|\n",
            "|         US|   41137196| RU9LHN1NJDVOI|B000EQ868I|     534229510|Cosmi Print Perfe...|        Software|          5|            0|          0|   N|                Y|          Five Stars|I was pleased wit...| 2015-08-31|\n",
            "|         US|   18003829|R19910SO17BQUE|B00MYXTCMI|      42668324|TurboTax Business...|        Software|          5|            0|          0|   N|                Y|... what it is su...|This program does...| 2015-08-31|\n",
            "|         US|   14460749|R32N10BW8MH847|B008PIQXP0|     116724371|I.R.I.S. Readiris...|        Software|          4|            2|          4|   N|                Y|          Four Stars|Again it should h...| 2015-08-31|\n",
            "|         US|   12641855| R2DNM85DH7FGK|B00KAFOXXU|     471261945|Finale PrintMusic...|        Software|          5|            0|          2|   N|                Y|          Five Stars|               great| 2015-08-31|\n",
            "|         US|   13775565|R2G9RFFW051RWY|B00OKSOLE4|     694520847|Microsoft Office ...|        Software|          5|            0|          0|   N|                Y|          Five Stars|        Easy to use.| 2015-08-31|\n",
            "|         US|   31044774|R26CC1STPSUHBS|B01019T6O0|     510976915|Microsoft Windows...|        Software|          1|           27|         39|   N|                N|Do NOT take the \"...|Do NOT take the &...| 2015-08-31|\n",
            "+-----------+-----------+--------------+----------+--------------+--------------------+----------------+-----------+-------------+-----------+----+-----------------+--------------------+--------------------+-----------+\n",
            "only showing top 20 rows\n",
            "\n"
          ]
        }
      ]
    },
    {
      "cell_type": "code",
      "source": [
        "user_data_df.printSchema()\n",
        "user_data_df.count()"
      ],
      "metadata": {
        "colab": {
          "base_uri": "https://localhost:8080/"
        },
        "id": "cefTgtVMcfsi",
        "outputId": "845b0eba-7a2a-40e3-81ec-208bbb3aa7ef"
      },
      "execution_count": 160,
      "outputs": [
        {
          "output_type": "stream",
          "name": "stdout",
          "text": [
            "root\n",
            " |-- marketplace: string (nullable = true)\n",
            " |-- customer_id: integer (nullable = true)\n",
            " |-- review_id: string (nullable = true)\n",
            " |-- product_id: string (nullable = true)\n",
            " |-- product_parent: integer (nullable = true)\n",
            " |-- product_title: string (nullable = true)\n",
            " |-- product_category: string (nullable = true)\n",
            " |-- star_rating: integer (nullable = true)\n",
            " |-- helpful_votes: integer (nullable = true)\n",
            " |-- total_votes: integer (nullable = true)\n",
            " |-- vine: string (nullable = true)\n",
            " |-- verified_purchase: string (nullable = true)\n",
            " |-- review_headline: string (nullable = true)\n",
            " |-- review_body: string (nullable = true)\n",
            " |-- review_date: string (nullable = true)\n",
            "\n"
          ]
        },
        {
          "output_type": "execute_result",
          "data": {
            "text/plain": [
              "341931"
            ]
          },
          "metadata": {},
          "execution_count": 160
        }
      ]
    },
    {
      "cell_type": "code",
      "source": [
        "#Total number of records\n",
        "user_data_df.count()"
      ],
      "metadata": {
        "colab": {
          "base_uri": "https://localhost:8080/"
        },
        "id": "8IupSB7fcjGi",
        "outputId": "b6e87fdf-3ccb-421f-b745-992f4229ac22"
      },
      "execution_count": 161,
      "outputs": [
        {
          "output_type": "execute_result",
          "data": {
            "text/plain": [
              "341931"
            ]
          },
          "metadata": {},
          "execution_count": 161
        }
      ]
    },
    {
      "cell_type": "code",
      "source": [
        "user_data_df.createOrReplaceTempView(\"user_data_view\")"
      ],
      "metadata": {
        "id": "6rKC-wu2n7T9"
      },
      "execution_count": 162,
      "outputs": []
    },
    {
      "cell_type": "code",
      "source": [
        "#Unique values\n",
        "\n",
        "\n",
        "user_data_summary_df = spark.sql('''\n",
        "SELECT\n",
        "    product_title, AVG(star_rating) as star_rating_avg, AVG(helpful_votes) as helpful_votes_avg, AVG(total_votes) as total_votes_avg\n",
        "FROM\n",
        "    user_data_view GROUP BY product_title\n",
        "ORDER BY\n",
        "    star_rating_avg DESC ''')\n",
        "user_data_summary_df.show()\n"
      ],
      "metadata": {
        "id": "tsnA63idxg_2",
        "colab": {
          "base_uri": "https://localhost:8080/"
        },
        "outputId": "57f22fff-e42e-4df9-e81f-9dcaa2563efb"
      },
      "execution_count": 163,
      "outputs": [
        {
          "output_type": "stream",
          "name": "stdout",
          "text": [
            "+--------------------+---------------+------------------+------------------+\n",
            "|       product_title|star_rating_avg| helpful_votes_avg|   total_votes_avg|\n",
            "+--------------------+---------------+------------------+------------------+\n",
            "|Atari Deer Hunter...|            5.0|               0.0|               1.0|\n",
            "|Cakewalk SONAR X3...|            5.0|               4.0|               4.0|\n",
            "|101 Photoshop Les...|            5.0|               3.0|               3.0|\n",
            "|    TeachMe! Finnish|            5.0|               0.0|               0.0|\n",
            "|Symantec Backup E...|            5.0|               1.0|               1.0|\n",
            "|Resume Maker Prof...|            5.0|               1.0|               1.0|\n",
            "|REAL-Mentor: Real...|            5.0|               1.0|               1.0|\n",
            "|OMNIPAGE 18.0 US ...|            5.0|               2.0|               3.0|\n",
            "|Fluenz Mandarin 1...|            5.0|               4.0|               5.0|\n",
            "|Kaspersky Antivir...|            5.0|               0.0|               0.0|\n",
            "| Adventure Game Pack|            5.0|               4.0|               4.0|\n",
            "|JumpStart Math 2n...|            5.0|               0.0|               0.0|\n",
            "|Sun Solaris Admin...|            5.0|               0.0|               0.0|\n",
            "|Award Banner & Ce...|            5.0|               2.0|               3.0|\n",
            "|Lotus Domino R5 D...|            5.0|               0.0|               0.0|\n",
            "|Dive Cd-ROM for S...|            5.0|               4.0|               4.0|\n",
            "|Backup Exec NT/20...|            5.0|               0.0|               0.0|\n",
            "|         Becker Draw|            5.0|0.6666666666666666|0.6666666666666666|\n",
            "|JumpStart Math Ma...|            5.0|              14.0|              14.0|\n",
            "|Backpacker The Lo...|            5.0|               1.0|               1.0|\n",
            "+--------------------+---------------+------------------+------------------+\n",
            "only showing top 20 rows\n",
            "\n"
          ]
        }
      ]
    },
    {
      "cell_type": "code",
      "source": [
        "user_data_df.groupBy().avg().show()"
      ],
      "metadata": {
        "colab": {
          "base_uri": "https://localhost:8080/"
        },
        "id": "SrG_M9JZqjx2",
        "outputId": "267cd1cc-128b-4ea5-c118-a37a6bec44ef"
      },
      "execution_count": 164,
      "outputs": [
        {
          "output_type": "stream",
          "name": "stdout",
          "text": [
            "+--------------------+-------------------+------------------+------------------+-----------------+\n",
            "|    avg(customer_id)|avg(product_parent)|  avg(star_rating)|avg(helpful_votes)| avg(total_votes)|\n",
            "+--------------------+-------------------+------------------+------------------+-----------------+\n",
            "|3.2607869498945694E7|5.006618467260734E8|3.5670354545215264| 4.362482489157169|5.503203862767634|\n",
            "+--------------------+-------------------+------------------+------------------+-----------------+\n",
            "\n"
          ]
        }
      ]
    },
    {
      "cell_type": "code",
      "source": [
        "user_data_df.groupBy().avg().show()"
      ],
      "metadata": {
        "colab": {
          "base_uri": "https://localhost:8080/"
        },
        "id": "g098Om30yHFb",
        "outputId": "a80f6c83-fef5-4944-e6f5-4723cb46f9a1"
      },
      "execution_count": 165,
      "outputs": [
        {
          "output_type": "stream",
          "name": "stdout",
          "text": [
            "+--------------------+-------------------+------------------+------------------+-----------------+\n",
            "|    avg(customer_id)|avg(product_parent)|  avg(star_rating)|avg(helpful_votes)| avg(total_votes)|\n",
            "+--------------------+-------------------+------------------+------------------+-----------------+\n",
            "|3.2607869498945694E7|5.006618467260734E8|3.5670354545215264| 4.362482489157169|5.503203862767634|\n",
            "+--------------------+-------------------+------------------+------------------+-----------------+\n",
            "\n"
          ]
        }
      ]
    },
    {
      "cell_type": "markdown",
      "source": [
        "# Drop if the total votes =0 or purchase in not verified"
      ],
      "metadata": {
        "id": "6qRlhgAZ6RxX"
      }
    },
    {
      "cell_type": "code",
      "source": [
        "user_data_fake_df = spark.sql('''\n",
        "SELECT \n",
        "*\n",
        "FROM user_data_view where  (verified_purchase == \"N\") \n",
        "''')"
      ],
      "metadata": {
        "id": "VqG2ogHXwcoF"
      },
      "execution_count": 166,
      "outputs": []
    },
    {
      "cell_type": "code",
      "source": [
        "user_data_fake_df.createOrReplaceTempView(\"user_data_fake_view\")\n"
      ],
      "metadata": {
        "id": "KqV61ZfdxazV"
      },
      "execution_count": 167,
      "outputs": []
    },
    {
      "cell_type": "code",
      "source": [
        "user_data_fake_summary_df = spark.sql('''\n",
        "SELECT\n",
        "    product_title, AVG(star_rating) as star_rating_avg, AVG(helpful_votes) as helpful_votes_avg, AVG(total_votes) as total_votes_avg\n",
        "FROM\n",
        "    user_data_fake_view GROUP BY product_title\n",
        "ORDER BY\n",
        "    star_rating_avg DESC ''')\n",
        "user_data_fake_summary_df.show()"
      ],
      "metadata": {
        "colab": {
          "base_uri": "https://localhost:8080/"
        },
        "id": "PaFP7fxaxnAe",
        "outputId": "9d8c1aaf-7f29-453c-9ee0-e5d02771cc65"
      },
      "execution_count": 168,
      "outputs": [
        {
          "output_type": "stream",
          "name": "stdout",
          "text": [
            "+--------------------+---------------+------------------+------------------+\n",
            "|       product_title|star_rating_avg| helpful_votes_avg|   total_votes_avg|\n",
            "+--------------------+---------------+------------------+------------------+\n",
            "|101 Photoshop Les...|            5.0|               3.0|               3.0|\n",
            "|         Becker Draw|            5.0|               1.0|               1.0|\n",
            "|    TeachMe! Finnish|            5.0|               0.0|               0.0|\n",
            "|Linux Jazz 6-disk...|            5.0|               0.5|               0.5|\n",
            "| Adventure Game Pack|            5.0|               4.0|               4.0|\n",
            "|Edmark Sammy's Sc...|            5.0|               0.0|               0.0|\n",
            "|Sun Solaris Admin...|            5.0|               0.0|               0.0|\n",
            "|Blockbase Pieced ...|            5.0|               1.0|               1.0|\n",
            "|Lotus Domino R5 D...|            5.0|               0.0|               0.0|\n",
            "|Chicken Invaders ...|            5.0|               2.0|               2.0|\n",
            "|Backup Exec NT/20...|            5.0|               0.0|               0.0|\n",
            "|REAL-Mentor: Real...|            5.0|               1.0|               1.0|\n",
            "|JumpStart Math Ma...|            5.0|              14.0|              14.0|\n",
            "|Diablo Power Maci...|            5.0|               0.0|               0.0|\n",
            "|Learn Portuguese:...|            5.0|1.4285714285714286|1.5714285714285714|\n",
            "|JumpStart Math 2n...|            5.0|               0.0|               0.0|\n",
            "|80s Funk Dance Mu...|            5.0|               0.0|               0.0|\n",
            "|Microsoft Windows...|            5.0|               0.0|               1.0|\n",
            "|Death at Fairing ...|            5.0|               7.0|               7.0|\n",
            "|Fluenz Mandarin 1...|            5.0|               4.0|               5.0|\n",
            "+--------------------+---------------+------------------+------------------+\n",
            "only showing top 20 rows\n",
            "\n"
          ]
        }
      ]
    },
    {
      "cell_type": "code",
      "source": [
        "user_data_fake_df.groupBy().avg().show()"
      ],
      "metadata": {
        "colab": {
          "base_uri": "https://localhost:8080/"
        },
        "id": "w4_fpsT5yLBd",
        "outputId": "ab3e233a-ef55-4605-a051-444908465135"
      },
      "execution_count": 169,
      "outputs": [
        {
          "output_type": "stream",
          "name": "stdout",
          "text": [
            "+-------------------+--------------------+------------------+------------------+-----------------+\n",
            "|   avg(customer_id)| avg(product_parent)|  avg(star_rating)|avg(helpful_votes)| avg(total_votes)|\n",
            "+-------------------+--------------------+------------------+------------------+-----------------+\n",
            "|3.616639896305133E7|4.9938716322380435E8|3.2029613628284705| 7.509878045445845|9.293825708895026|\n",
            "+-------------------+--------------------+------------------+------------------+-----------------+\n",
            "\n"
          ]
        }
      ]
    },
    {
      "cell_type": "code",
      "source": [
        "#Clean up\n",
        "user_data_df = spark.sql('''\n",
        "SELECT \n",
        "*\n",
        "FROM user_data_view where  (verified_purchase == \"Y\") and total_votes>0\n",
        "''')\n",
        "#Drop duplicates\n",
        "user_data_df=user_data_df.dropDuplicates()\n",
        "user_data_df.count()"
      ],
      "metadata": {
        "colab": {
          "base_uri": "https://localhost:8080/"
        },
        "id": "5D3JTLchIlbW",
        "outputId": "8c6d1a21-9942-4252-b837-00c551aaf4aa"
      },
      "execution_count": 170,
      "outputs": [
        {
          "output_type": "execute_result",
          "data": {
            "text/plain": [
              "95683"
            ]
          },
          "metadata": {},
          "execution_count": 170
        }
      ]
    },
    {
      "cell_type": "code",
      "source": [
        "user_data_df.createOrReplaceTempView(\"user_data_cleaned_view\")"
      ],
      "metadata": {
        "id": "63SK5oFSp1Su"
      },
      "execution_count": 171,
      "outputs": []
    },
    {
      "cell_type": "code",
      "source": [
        "user_data_summary1_df = spark.sql('''\n",
        "SELECT\n",
        "    product_title, AVG(star_rating) as star_rating_avg, AVG(helpful_votes) as helpful_votes_avg, AVG(total_votes) as total_votes_avg\n",
        "FROM\n",
        "    user_data_cleaned_view GROUP BY product_title\n",
        "ORDER BY\n",
        "    star_rating_avg DESC ''')\n",
        "user_data_summary1_df.show()"
      ],
      "metadata": {
        "colab": {
          "base_uri": "https://localhost:8080/"
        },
        "id": "S49zudhUmmvm",
        "outputId": "05ce1499-97fc-430d-b884-955f96c40029"
      },
      "execution_count": 172,
      "outputs": [
        {
          "output_type": "stream",
          "name": "stdout",
          "text": [
            "+--------------------+---------------+-----------------+---------------+\n",
            "|       product_title|star_rating_avg|helpful_votes_avg|total_votes_avg|\n",
            "+--------------------+---------------+-----------------+---------------+\n",
            "|Award Banner & Ce...|            5.0|              2.0|            3.0|\n",
            "|   Enemy Infestation|            5.0|              2.0|            2.0|\n",
            "|Trend Micro Titan...|            5.0|             0.25|            1.5|\n",
            "|Rosetta Stone Fre...|            5.0|             10.0|           12.0|\n",
            "|431312 QuickBooks...|            5.0|              1.0|            1.0|\n",
            "|Resume Maker Prof...|            5.0|              1.0|            1.0|\n",
            "|    Amazon Trail 3.0|            5.0|              1.0|            1.0|\n",
            "|ExpectantSee: You...|            5.0|              2.0|            2.0|\n",
            "|Carnivores - City...|            5.0|              1.5|            2.5|\n",
            "|Starry Night Back...|            5.0|              1.0|            2.0|\n",
            "|Dive Cd-ROM for S...|            5.0|              4.0|            4.0|\n",
            "|Weekly Reader Lea...|            5.0|              2.0|            2.0|\n",
            "|French Levels 1, ...|            5.0|              9.0|            9.0|\n",
            "|         Finale 2009|            5.0|              3.0|            3.0|\n",
            "|Beetle Bug & Blox...|            5.0|              1.0|            1.0|\n",
            "|S-video /Av Syste...|            5.0|             12.0|           15.0|\n",
            "|OMNIPAGE 18.0 US ...|            5.0|              2.0|            3.0|\n",
            "|The Star Trek Fon...|            5.0|              1.0|            1.0|\n",
            "|Atari Deer Hunter...|            5.0|              0.0|            1.0|\n",
            "|Toy Story 2 Actio...|            5.0|              1.0|            1.0|\n",
            "+--------------------+---------------+-----------------+---------------+\n",
            "only showing top 20 rows\n",
            "\n"
          ]
        }
      ]
    },
    {
      "cell_type": "code",
      "source": [
        "user_data_df.groupBy().avg().show()"
      ],
      "metadata": {
        "colab": {
          "base_uri": "https://localhost:8080/"
        },
        "id": "_28ifRkJqQvO",
        "outputId": "601476bc-b191-4287-9720-f353c280079e"
      },
      "execution_count": 173,
      "outputs": [
        {
          "output_type": "stream",
          "name": "stdout",
          "text": [
            "+--------------------+-------------------+-----------------+------------------+-----------------+\n",
            "|    avg(customer_id)|avg(product_parent)| avg(star_rating)|avg(helpful_votes)| avg(total_votes)|\n",
            "+--------------------+-------------------+-----------------+------------------+-----------------+\n",
            "|3.1223754642183043E7|4.915491732530544E8|3.521827283843525| 4.108284648265627|5.457374873279475|\n",
            "+--------------------+-------------------+-----------------+------------------+-----------------+\n",
            "\n"
          ]
        }
      ]
    },
    {
      "cell_type": "code",
      "source": [
        ""
      ],
      "metadata": {
        "id": "eEkbv6aZsj4H"
      },
      "execution_count": 173,
      "outputs": []
    },
    {
      "cell_type": "code",
      "source": [
        "#Review id table. Date is in yyyy-mm-dd but prefer to have a way to enforce it\n",
        "# import org.apache.spark.sql.functions.{to_date, to_timestamp}\n",
        "review_id_table_df = user_data_df.select([\"review_id\", \"customer_id\", \"product_id\", \"product_parent\", \"review_date\"])\n",
        "# review_id_table_df = review_id_table_df.withColumn(\"review_date\", to_date($\"review_date\", \"yyyy-mm-dd\"))\n",
        "review_id_table_df.show()"
      ],
      "metadata": {
        "colab": {
          "base_uri": "https://localhost:8080/"
        },
        "id": "_51sGK6oyozv",
        "outputId": "1f6f9eca-63fb-4054-b35b-493a2a4b8f4d"
      },
      "execution_count": 174,
      "outputs": [
        {
          "output_type": "stream",
          "name": "stdout",
          "text": [
            "+--------------+-----------+----------+--------------+-----------+\n",
            "|     review_id|customer_id|product_id|product_parent|review_date|\n",
            "+--------------+-----------+----------+--------------+-----------+\n",
            "|R11FLCMCYFGDHO|   28160256|B001ALLVMO|     674500841| 2015-08-17|\n",
            "|R220DIOG4JR3JL|   27460799|B009SPN118|     244120695| 2015-08-12|\n",
            "|R1D0STJ204W0LW|   53026486|B00OW2P7HS|     705811299| 2015-08-11|\n",
            "|R1T3QWHTHGO6JG|   47240862|B007TMFD7M|     101191858| 2015-08-10|\n",
            "|R2WXS6LL0A1I5R|    1675649|B00EXPSW2Q|     880437537| 2015-08-10|\n",
            "| R3W7O313FHNBH|   24417466|B00LQZ95RC|     299353569| 2015-08-10|\n",
            "| R66MM0LMAFQ78|   10055799|B00OBQ6PIK|     190919986| 2015-07-22|\n",
            "|R2BIWFVIRALDDO|   21157171|B00N4OLCRO|     776572654| 2015-07-22|\n",
            "|R1PFXHNCRR6G3S|   37631715|B00R9NXYGI|     594480361| 2015-07-19|\n",
            "|R13DBDWVT0VIFO|   11180940|B00MV9EL6M|     482986152| 2015-07-17|\n",
            "|R3TZPCDY7B8AAW|   29446916|B00MV9EKPO|     403400265| 2015-07-09|\n",
            "|R2WT3VW9LI02ZT|     771851|B00LOUGJO6|     801357787| 2015-07-03|\n",
            "|R2EJLG6IA3MVNA|   24524592|B008YTAGGW|     536723695| 2015-06-30|\n",
            "|R2EYUHNIS76T1A|   16286508|B001B057U6|     103058186| 2015-06-19|\n",
            "|R1N67OZFVTUPH7|   10862147|B008YTAGGW|     536723695| 2015-06-04|\n",
            "|R1SVD0QBJPQYV4|   52507673|B00NA6LI7K|     944335547| 2015-05-30|\n",
            "|R38ATHCGBO4G35|   16586539|B003XIKA4W|     371024672| 2015-05-29|\n",
            "|R28F7NMH2LR8BR|   50595028|B00E20V86O|     958166502| 2015-05-28|\n",
            "| RXCXCE2D685CG|   46081432|B00N4OLCRO|     776572654| 2015-05-28|\n",
            "|R2MA3452P0XYBC|   30299656|B0009DUHH4|     144286243| 2015-05-22|\n",
            "+--------------+-----------+----------+--------------+-----------+\n",
            "only showing top 20 rows\n",
            "\n"
          ]
        }
      ]
    },
    {
      "cell_type": "code",
      "source": [
        "#vine table. No changes needed\n",
        "vine_table_df=user_data_df.select([\"review_id\", \"star_rating\",\"helpful_votes\", \"total_votes\",\"vine\"])\n",
        "vine_table_df.show()"
      ],
      "metadata": {
        "colab": {
          "base_uri": "https://localhost:8080/"
        },
        "id": "ZrOVdrmJ0D9W",
        "outputId": "690cdb0c-a3dc-4a1c-96b5-e021228c8f55"
      },
      "execution_count": 175,
      "outputs": [
        {
          "output_type": "stream",
          "name": "stdout",
          "text": [
            "+--------------+-----------+-------------+-----------+----+\n",
            "|     review_id|star_rating|helpful_votes|total_votes|vine|\n",
            "+--------------+-----------+-------------+-----------+----+\n",
            "|R11FLCMCYFGDHO|          5|            1|          1|   N|\n",
            "|R220DIOG4JR3JL|          3|            1|          1|   N|\n",
            "|R1D0STJ204W0LW|          5|            0|          1|   N|\n",
            "|R1T3QWHTHGO6JG|          2|            1|          3|   N|\n",
            "|R2WXS6LL0A1I5R|          1|            1|          1|   N|\n",
            "| R3W7O313FHNBH|          1|           13|         13|   N|\n",
            "| R66MM0LMAFQ78|          1|            1|          2|   N|\n",
            "|R2BIWFVIRALDDO|          1|            2|          3|   N|\n",
            "|R1PFXHNCRR6G3S|          5|            1|          1|   N|\n",
            "|R13DBDWVT0VIFO|          5|            1|          1|   N|\n",
            "|R3TZPCDY7B8AAW|          1|            2|          2|   N|\n",
            "|R2WT3VW9LI02ZT|          2|            2|          2|   N|\n",
            "|R2EJLG6IA3MVNA|          1|            0|          1|   N|\n",
            "|R2EYUHNIS76T1A|          5|            2|          2|   N|\n",
            "|R1N67OZFVTUPH7|          1|            0|          1|   N|\n",
            "|R1SVD0QBJPQYV4|          4|            1|          1|   N|\n",
            "|R38ATHCGBO4G35|          3|            0|          1|   N|\n",
            "|R28F7NMH2LR8BR|          2|            1|          1|   N|\n",
            "| RXCXCE2D685CG|          5|            1|          1|   N|\n",
            "|R2MA3452P0XYBC|          4|            2|          7|   N|\n",
            "+--------------+-----------+-------------+-----------+----+\n",
            "only showing top 20 rows\n",
            "\n"
          ]
        }
      ]
    },
    {
      "cell_type": "code",
      "source": [
        "#Customer id and their  count\n",
        "df=user_data_df.select([\"customer_id\"])\n",
        "customers_df=df.groupBy(\"customer_id\").count()\n",
        "customers_df=customers_df.withColumnRenamed(\"count\",\"customer_count\")\n",
        "customers_df.show()"
      ],
      "metadata": {
        "colab": {
          "base_uri": "https://localhost:8080/"
        },
        "id": "eY05HraSepPz",
        "outputId": "cd4fcae3-a798-4c03-c1e4-750debfd24ee"
      },
      "execution_count": 176,
      "outputs": [
        {
          "output_type": "stream",
          "name": "stdout",
          "text": [
            "+-----------+--------------+\n",
            "|customer_id|customer_count|\n",
            "+-----------+--------------+\n",
            "|   30808147|             3|\n",
            "|   13706099|             2|\n",
            "|   12167120|             1|\n",
            "|   50769070|             1|\n",
            "|   33185561|             1|\n",
            "|   15321104|             1|\n",
            "|   39341740|             1|\n",
            "|   20436576|             1|\n",
            "|   15324233|             2|\n",
            "|   42966770|             1|\n",
            "|    4032288|             1|\n",
            "|   16982731|             1|\n",
            "|   36998253|             1|\n",
            "|   49107143|             1|\n",
            "|   26407568|             2|\n",
            "|   52869911|             1|\n",
            "|   51938979|             1|\n",
            "|   21448041|             1|\n",
            "|   14730274|             1|\n",
            "|   11938892|             1|\n",
            "+-----------+--------------+\n",
            "only showing top 20 rows\n",
            "\n"
          ]
        }
      ]
    },
    {
      "cell_type": "markdown",
      "source": [
        ""
      ],
      "metadata": {
        "id": "dNq8oz3aAOdd"
      }
    },
    {
      "cell_type": "code",
      "source": [
        "#Verify the schema matches with what was provided. \n",
        "\n",
        "mode = \"overwrite\"  #Cant be override\n",
        "jdbc_url=\"jdbc:postgresql://database-1.cbrsr6wychlr.us-west-1.rds.amazonaws.com:5432/software_db\"\n",
        "config = {\"user\":\"postgres\", \n",
        "          \"password\": \"postgres\", \n",
        "          \"driver\":\"org.postgresql.Driver\"}"
      ],
      "metadata": {
        "id": "P6KqtJBgpdss"
      },
      "execution_count": 177,
      "outputs": []
    },
    {
      "cell_type": "markdown",
      "source": [
        ""
      ],
      "metadata": {
        "id": "vJE1KX8xPQav"
      }
    },
    {
      "cell_type": "code",
      "source": [
        "review_id_table_df.createOrReplaceTempView(\"review_id_view1\")\n",
        "review_id_table_df = spark.sql('''\n",
        "SELECT \n",
        "review_id, customer_id, product_id, product_parent, DATE(review_date)\n",
        "FROM review_id_view1\n",
        "''')\n",
        "review_id_table_df1=review_id_table_df.select('review_id').distinct()\n",
        "\n",
        "review_id_table_df1.printSchema()"
      ],
      "metadata": {
        "colab": {
          "base_uri": "https://localhost:8080/"
        },
        "id": "e8sw67ZFVume",
        "outputId": "57e5d1d3-cc95-4a7b-bd97-18d90d082f98"
      },
      "execution_count": 178,
      "outputs": [
        {
          "output_type": "stream",
          "name": "stdout",
          "text": [
            "root\n",
            " |-- review_id: string (nullable = true)\n",
            "\n"
          ]
        }
      ]
    }
  ]
}