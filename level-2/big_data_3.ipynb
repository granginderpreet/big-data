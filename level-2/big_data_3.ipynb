{
  "nbformat": 4,
  "nbformat_minor": 0,
  "metadata": {
    "colab": {
      "name": "big_data_3.ipynb",
      "provenance": [],
      "collapsed_sections": []
    },
    "kernelspec": {
      "name": "python3",
      "display_name": "Python 3"
    },
    "language_info": {
      "name": "python"
    }
  },
  "cells": [
    {
      "cell_type": "code",
      "execution_count": null,
      "metadata": {
        "colab": {
          "base_uri": "https://localhost:8080/"
        },
        "id": "Y4cx6vaoKCwX",
        "outputId": "9a6bf01f-e643-4247-a6a6-db791e5da0a7"
      },
      "outputs": [
        {
          "output_type": "stream",
          "name": "stdout",
          "text": [
            "\r0% [Working]\r            \rHit:1 https://developer.download.nvidia.com/compute/cuda/repos/ubuntu1804/x86_64  InRelease\n",
            "\r0% [Connecting to archive.ubuntu.com (185.125.190.36)] [Waiting for headers] [C\r                                                                               \rHit:2 http://security.ubuntu.com/ubuntu bionic-security InRelease\n",
            "\r0% [Connecting to archive.ubuntu.com (185.125.190.36)] [Connecting to cloud.r-p\r0% [1 InRelease gpgv 1,581 B] [Connecting to archive.ubuntu.com (185.125.190.36\r                                                                               \rIgn:3 https://developer.download.nvidia.com/compute/machine-learning/repos/ubuntu1804/x86_64  InRelease\n",
            "Hit:4 https://developer.download.nvidia.com/compute/machine-learning/repos/ubuntu1804/x86_64  Release\n",
            "Hit:5 http://ppa.launchpad.net/c2d4u.team/c2d4u4.0+/ubuntu bionic InRelease\n",
            "Hit:6 http://archive.ubuntu.com/ubuntu bionic InRelease\n",
            "Get:7 http://archive.ubuntu.com/ubuntu bionic-updates InRelease [88.7 kB]\n",
            "Hit:8 http://ppa.launchpad.net/cran/libgit2/ubuntu bionic InRelease\n",
            "Hit:10 https://cloud.r-project.org/bin/linux/ubuntu bionic-cran40/ InRelease\n",
            "Hit:11 http://ppa.launchpad.net/deadsnakes/ppa/ubuntu bionic InRelease\n",
            "Get:12 http://archive.ubuntu.com/ubuntu bionic-backports InRelease [74.6 kB]\n",
            "Hit:13 http://ppa.launchpad.net/graphics-drivers/ppa/ubuntu bionic InRelease\n",
            "Fetched 163 kB in 2s (72.7 kB/s)\n",
            "Reading package lists... Done\n"
          ]
        }
      ],
      "source": [
        "import os\n",
        "# Find the latest version of spark 3.0  from http://www.apache.org/dist/spark/ and enter as the spark version\n",
        "# For example:\n",
        "# spark_version = 'spark-3.0.3'\n",
        "spark_version = 'spark-3.2.1'\n",
        "os.environ['SPARK_VERSION']=spark_version\n",
        "\n",
        "# Install Spark and Java\n",
        "!apt-get update\n",
        "!apt-get install openjdk-8-jdk-headless -qq > /dev/null\n",
        "!wget -q http://www.apache.org/dist/spark/$SPARK_VERSION/$SPARK_VERSION-bin-hadoop2.7.tgz\n",
        "!tar xf $SPARK_VERSION-bin-hadoop2.7.tgz\n",
        "!pip install -q findspark\n",
        "\n",
        "# Set Environment Variables\n",
        "os.environ[\"JAVA_HOME\"] = \"/usr/lib/jvm/java-8-openjdk-amd64\"\n",
        "os.environ[\"SPARK_HOME\"] = f\"/content/{spark_version}-bin-hadoop2.7\"\n",
        "\n",
        "# Start a SparkSession\n",
        "import findspark\n",
        "findspark.init()"
      ]
    },
    {
      "cell_type": "code",
      "execution_count": null,
      "metadata": {
        "colab": {
          "base_uri": "https://localhost:8080/"
        },
        "id": "xISV-9eR6Yah",
        "outputId": "8b516c64-27b5-4da8-da42-6e64db587c2d"
      },
      "outputs": [
        {
          "output_type": "stream",
          "name": "stdout",
          "text": [
            "--2022-05-14 08:31:05--  https://jdbc.postgresql.org/download/postgresql-42.2.9.jar\n",
            "Resolving jdbc.postgresql.org (jdbc.postgresql.org)... 72.32.157.228, 2001:4800:3e1:1::228\n",
            "Connecting to jdbc.postgresql.org (jdbc.postgresql.org)|72.32.157.228|:443... connected.\n",
            "HTTP request sent, awaiting response... 200 OK\n",
            "Length: 914037 (893K) [application/java-archive]\n",
            "Saving to: ‘postgresql-42.2.9.jar.1’\n",
            "\n",
            "postgresql-42.2.9.j 100%[===================>] 892.61K  --.-KB/s    in 0.09s   \n",
            "\n",
            "2022-05-14 08:31:05 (10.1 MB/s) - ‘postgresql-42.2.9.jar.1’ saved [914037/914037]\n",
            "\n"
          ]
        }
      ],
      "source": [
        "!wget https://jdbc.postgresql.org/download/postgresql-42.2.9.jar"
      ]
    },
    {
      "cell_type": "code",
      "source": [
        "from pyspark.sql import SparkSession\n",
        "spark = SparkSession.builder.appName(\"CloudETL\").config(\"spark.driver.extraClassPath\",\"/content/postgresql-42.2.9.jar\").getOrCreate()"
      ],
      "metadata": {
        "id": "L-E72q9mKxfv"
      },
      "execution_count": null,
      "outputs": []
    },
    {
      "cell_type": "code",
      "source": [
        "# Read in data from S3 Buckets\n",
        "from pyspark import SparkFiles\n",
        "url=\"https://s3.amazonaws.com/amazon-reviews-pds/tsv/amazon_reviews_us_Software_v1_00.tsv.gz\"\n",
        "spark.sparkContext.addFile(url)\n",
        "user_data_df = spark.read.csv(SparkFiles.get(\"amazon_reviews_us_Software_v1_00.tsv.gz\"), sep=\"\\t\", header=True, inferSchema=True)\n",
        "\n",
        "# Show DataFrame\n",
        "user_data_df.show()"
      ],
      "metadata": {
        "colab": {
          "base_uri": "https://localhost:8080/"
        },
        "id": "FxDO-DMDK5L_",
        "outputId": "7ff681bc-c984-46ca-bfaf-0d3b79859a5f"
      },
      "execution_count": null,
      "outputs": [
        {
          "output_type": "stream",
          "name": "stdout",
          "text": [
            "+-----------+-----------+--------------+----------+--------------+--------------------+----------------+-----------+-------------+-----------+----+-----------------+--------------------+--------------------+-----------+\n",
            "|marketplace|customer_id|     review_id|product_id|product_parent|       product_title|product_category|star_rating|helpful_votes|total_votes|vine|verified_purchase|     review_headline|         review_body|review_date|\n",
            "+-----------+-----------+--------------+----------+--------------+--------------------+----------------+-----------+-------------+-----------+----+-----------------+--------------------+--------------------+-----------+\n",
            "|         US|   42605767|R3EFW2STIYIY0I|B00MUTIDKI|     248732228|McAfee 2015 Inter...|        Software|          1|            2|          2|   N|                Y|I was very disapp...|I was very disapp...| 2015-08-31|\n",
            "|         US|   51771800|R12NR0R5A9F7FT|B00EPACNUG|     531462352|Hallmark Card Stu...|        Software|          5|            0|          0|   N|                Y|          Five Stars|I had a little st...| 2015-08-31|\n",
            "|         US|   16053526|R1LSH74R9XAP59|B00164AZA4|     473982505| Search and Rescue 4|        Software|          2|            0|          1|   N|                Y|    Have windows 10?|Tried to download...| 2015-08-31|\n",
            "|         US|   15319481|R1QXUNTF76K7L6|B00E6LIEFM|     189774198|      Quickbooks Pro|        Software|          2|            0|          0|   N|                Y|Disc was corrupt,...|Disc was corrupt,...| 2015-08-31|\n",
            "|         US|    1441820|R2F7DR75PS8NKT|B00VWEBG06|     852470365|Windows 7 Profess...|        Software|          5|            0|          0|   N|                Y|          Five Stars|Just what I neede...| 2015-08-31|\n",
            "|         US|   37107850|R2C1DJSCC8UFS6|B00EP7AP7C|     279360628|Family Tree Maker...|        Software|          3|            0|          0|   N|                Y|         Three Stars|Didn't like havin...| 2015-08-31|\n",
            "|         US|     302120|R1AXGS1W4YFXMX|B00OW2PET4|     729971168|World of Farming:...|        Software|          1|            0|          2|   N|                Y|            One Star|it does not work ...| 2015-08-31|\n",
            "|         US|   20193077|R1XU1B93402SYJ|B00N4OLCRO|     776572654|Photoshop Element...|        Software|          1|            1|          1|   N|                Y|Can't load to my ...|I have tried for ...| 2015-08-31|\n",
            "|         US|   13106017|R2U432NB3OPVR0|B005CELN8W|     222071424|Phantom EFX WMS S...|        Software|          5|            0|          0|   N|                Y|          Five Stars|       love the game| 2015-08-31|\n",
            "|         US|   32587108|R3R6FIMIOQ5SP9|B005CELL1G|     168801430|PaperPort Profess...|        Software|          5|            0|          0|   N|                Y|Meets our small b...|Great software. A...| 2015-08-31|\n",
            "|         US|   32020017|R12TX6V09C9QNQ|B00H09BOXQ|     455502995|Windows 7 Profess...|        Software|          5|            0|          0|   N|                Y|          Five Stars|             Awesome| 2015-08-31|\n",
            "|         US|   13376158|R33UCII6YKUMKV|B00MCLGAAO|     652069521| QuickBooks Pro 2015|        Software|          3|            2|          2|   N|                Y|Nothing New in Th...|To start this rev...| 2015-08-31|\n",
            "|         US|   47098110| RZKDAB9TGO053|B00P6U8C5Y|     871602905|Block Financial H...|        Software|          1|            0|          0|   N|                Y|Missing key infor...|Some key provisio...| 2015-08-31|\n",
            "|         US|   24083274|R2EMN2EEDN73ZA|B00MA5TPN6|     299038085|Parallels Desktop...|        Software|          4|            0|          0|   N|                Y|Probably the best...|Probably the best...| 2015-08-31|\n",
            "|         US|   41137196| RU9LHN1NJDVOI|B000EQ868I|     534229510|Cosmi Print Perfe...|        Software|          5|            0|          0|   N|                Y|          Five Stars|I was pleased wit...| 2015-08-31|\n",
            "|         US|   18003829|R19910SO17BQUE|B00MYXTCMI|      42668324|TurboTax Business...|        Software|          5|            0|          0|   N|                Y|... what it is su...|This program does...| 2015-08-31|\n",
            "|         US|   14460749|R32N10BW8MH847|B008PIQXP0|     116724371|I.R.I.S. Readiris...|        Software|          4|            2|          4|   N|                Y|          Four Stars|Again it should h...| 2015-08-31|\n",
            "|         US|   12641855| R2DNM85DH7FGK|B00KAFOXXU|     471261945|Finale PrintMusic...|        Software|          5|            0|          2|   N|                Y|          Five Stars|               great| 2015-08-31|\n",
            "|         US|   13775565|R2G9RFFW051RWY|B00OKSOLE4|     694520847|Microsoft Office ...|        Software|          5|            0|          0|   N|                Y|          Five Stars|        Easy to use.| 2015-08-31|\n",
            "|         US|   31044774|R26CC1STPSUHBS|B01019T6O0|     510976915|Microsoft Windows...|        Software|          1|           27|         39|   N|                N|Do NOT take the \"...|Do NOT take the &...| 2015-08-31|\n",
            "+-----------+-----------+--------------+----------+--------------+--------------------+----------------+-----------+-------------+-----------+----+-----------------+--------------------+--------------------+-----------+\n",
            "only showing top 20 rows\n",
            "\n"
          ]
        }
      ]
    },
    {
      "cell_type": "code",
      "source": [
        "user_data_df.printSchema()"
      ],
      "metadata": {
        "colab": {
          "base_uri": "https://localhost:8080/"
        },
        "id": "cefTgtVMcfsi",
        "outputId": "c02fa99c-ae69-4875-8d0c-885febb9f71b"
      },
      "execution_count": null,
      "outputs": [
        {
          "output_type": "stream",
          "name": "stdout",
          "text": [
            "root\n",
            " |-- marketplace: string (nullable = true)\n",
            " |-- customer_id: integer (nullable = true)\n",
            " |-- review_id: string (nullable = true)\n",
            " |-- product_id: string (nullable = true)\n",
            " |-- product_parent: integer (nullable = true)\n",
            " |-- product_title: string (nullable = true)\n",
            " |-- product_category: string (nullable = true)\n",
            " |-- star_rating: integer (nullable = true)\n",
            " |-- helpful_votes: integer (nullable = true)\n",
            " |-- total_votes: integer (nullable = true)\n",
            " |-- vine: string (nullable = true)\n",
            " |-- verified_purchase: string (nullable = true)\n",
            " |-- review_headline: string (nullable = true)\n",
            " |-- review_body: string (nullable = true)\n",
            " |-- review_date: string (nullable = true)\n",
            "\n"
          ]
        }
      ]
    },
    {
      "cell_type": "code",
      "source": [
        "#Total number of records\n",
        "user_data_df.count()"
      ],
      "metadata": {
        "colab": {
          "base_uri": "https://localhost:8080/"
        },
        "id": "8IupSB7fcjGi",
        "outputId": "6498244a-6759-4286-eb2c-1685c15e79b7"
      },
      "execution_count": null,
      "outputs": [
        {
          "output_type": "execute_result",
          "data": {
            "text/plain": [
              "341931"
            ]
          },
          "metadata": {},
          "execution_count": 17
        }
      ]
    },
    {
      "cell_type": "code",
      "source": [
        "#Unique values\n",
        "user_data_df.createOrReplaceTempView(\"user_data_view\")\n",
        "\n"
      ],
      "metadata": {
        "id": "tsnA63idxg_2"
      },
      "execution_count": null,
      "outputs": []
    },
    {
      "cell_type": "code",
      "source": [
        "user_data_df = spark.sql('''\n",
        "SELECT \n",
        "*\n",
        "FROM user_data_view where (total_votes > 0 ) and (verified_purchase == \"Y\")\n",
        "''')"
      ],
      "metadata": {
        "id": "X5LnN3bCsGwH"
      },
      "execution_count": null,
      "outputs": []
    },
    {
      "cell_type": "code",
      "source": [
        "user_data_df=user_data_df.dropDuplicates()\n",
        "user_data_df.count()"
      ],
      "metadata": {
        "colab": {
          "base_uri": "https://localhost:8080/"
        },
        "id": "5D3JTLchIlbW",
        "outputId": "d188710c-c196-4db3-e64e-f5f3722ebfdb"
      },
      "execution_count": null,
      "outputs": [
        {
          "output_type": "execute_result",
          "data": {
            "text/plain": [
              "95683"
            ]
          },
          "metadata": {},
          "execution_count": 23
        }
      ]
    },
    {
      "cell_type": "code",
      "source": [
        "user_data_df.show()"
      ],
      "metadata": {
        "colab": {
          "base_uri": "https://localhost:8080/"
        },
        "id": "eEkbv6aZsj4H",
        "outputId": "f1c930a2-72a5-4ffe-bdc0-0bb20fe2ec06"
      },
      "execution_count": null,
      "outputs": [
        {
          "output_type": "stream",
          "name": "stdout",
          "text": [
            "+-----------+-----------+--------------+----------+--------------+--------------------+----------------+-----------+-------------+-----------+----+-----------------+--------------------+--------------------+-----------+\n",
            "|marketplace|customer_id|     review_id|product_id|product_parent|       product_title|product_category|star_rating|helpful_votes|total_votes|vine|verified_purchase|     review_headline|         review_body|review_date|\n",
            "+-----------+-----------+--------------+----------+--------------+--------------------+----------------+-----------+-------------+-----------+----+-----------------+--------------------+--------------------+-----------+\n",
            "|         US|   28160256|R11FLCMCYFGDHO|B001ALLVMO|     674500841|Journeyman Projec...|        Software|          5|            1|          1|   N|                Y|Such an amazing g...|When I was a youn...| 2015-08-17|\n",
            "|         US|   27460799|R220DIOG4JR3JL|B009SPN118|     244120695|Microsoft Office ...|        Software|          3|            1|          1|   N|                Y|Functions Great, ...|It's nice in func...| 2015-08-12|\n",
            "|         US|   53026486|R1D0STJ204W0LW|B00OW2P7HS|     705811299|Encore Assassin's...|        Software|          5|            0|          1|   N|                Y|          Five Stars|                 fun| 2015-08-11|\n",
            "|         US|   47240862|R1T3QWHTHGO6JG|B007TMFD7M|     101191858|X-Plane 10 Region...|        Software|          2|            1|          3|   N|                Y|           Two Stars|All of my Saitek ...| 2015-08-10|\n",
            "|         US|    1675649|R2WXS6LL0A1I5R|B00EXPSW2Q|     880437537|The Print Shop De...|        Software|          1|            1|          1|   N|                Y|        Disappointed|I had contacted c...| 2015-08-10|\n",
            "|         US|   24417466| R3W7O313FHNBH|B00LQZ95RC|     299353569|Microsoft Office ...|        Software|          1|           13|         13|   N|                Y|            One Star|Had to return it ...| 2015-08-10|\n",
            "|         US|   10055799| R66MM0LMAFQ78|B00OBQ6PIK|     190919986|ThreatTrack Secur...|        Software|          1|            1|          2|   N|                Y|I would not give ...|I would not give ...| 2015-07-22|\n",
            "|         US|   21157171|R2BIWFVIRALDDO|B00N4OLCRO|     776572654|Photoshop Element...|        Software|          1|            2|          3|   N|                Y|The situation is ...|I have not been a...| 2015-07-22|\n",
            "|         US|   37631715|R1PFXHNCRR6G3S|B00R9NXYGI|     594480361|Cyberlink PowerDi...|        Software|          5|            1|          1|   N|                Y|          Five Stars|        ty i love it| 2015-07-19|\n",
            "|         US|   11180940|R13DBDWVT0VIFO|B00MV9EL6M|     482986152|     Norton Security|        Software|          5|            1|          1|   N|                Y|Excellent support...|The only bad thin...| 2015-07-17|\n",
            "|         US|   29446916|R3TZPCDY7B8AAW|B00MV9EKPO|     403400265|Norton Security f...|        Software|          1|            2|          2|   N|                Y|Key was then usel...|Glue used to hold...| 2015-07-09|\n",
            "|         US|     771851|R2WT3VW9LI02ZT|B00LOUGJO6|     801357787|Adobe Acrobat 9 S...|        Software|          2|            2|          2|   N|                Y|      Not satisfied.|When compared to ...| 2015-07-03|\n",
            "|         US|   24524592|R2EJLG6IA3MVNA|B008YTAGGW|     536723695|Roxio Game Captur...|        Software|          1|            0|          1|   N|                Y|Bad product made ...|This product didn...| 2015-06-30|\n",
            "|         US|   16286508|R2EYUHNIS76T1A|B001B057U6|     103058186|Nikon Capture NX ...|        Software|          5|            2|          2|   N|                Y|Use it all the ti...|Use it all the ti...| 2015-06-19|\n",
            "|         US|   10862147|R1N67OZFVTUPH7|B008YTAGGW|     536723695|Roxio Game Captur...|        Software|          1|            0|          1|   N|                Y|      2x Blue Screen|Two years ago, I ...| 2015-06-04|\n",
            "|         US|   52507673|R1SVD0QBJPQYV4|B00NA6LI7K|     944335547|Hallmark Card Stu...|        Software|          4|            1|          1|   N|                Y|          Nice cards|makes a nice card...| 2015-05-30|\n",
            "|         US|   16586539|R38ATHCGBO4G35|B003XIKA4W|     371024672|The Complete Nati...|        Software|          3|            0|          1|   N|                Y|   Cumbersome to use|Looked forward to...| 2015-05-29|\n",
            "|         US|   50595028|R28F7NMH2LR8BR|B00E20V86O|     958166502|RV Plan 'N' Go 20...|        Software|          2|            1|          1|   N|                Y|           Two Stars|Can't get data on...| 2015-05-28|\n",
            "|         US|   46081432| RXCXCE2D685CG|B00N4OLCRO|     776572654|Photoshop Element...|        Software|          5|            1|          1|   N|                Y|          Five Stars|Always a good pro...| 2015-05-28|\n",
            "|         US|   30299656|R2MA3452P0XYBC|B0009DUHH4|     144286243|1000 Best Games F...|        Software|          4|            2|          7|   N|                Y|          Four Stars|           thank you| 2015-05-22|\n",
            "+-----------+-----------+--------------+----------+--------------+--------------------+----------------+-----------+-------------+-----------+----+-----------------+--------------------+--------------------+-----------+\n",
            "only showing top 20 rows\n",
            "\n"
          ]
        }
      ]
    },
    {
      "cell_type": "code",
      "source": [
        "#Review id table. Date is in yyyy-mm-dd but prefer to have a way to enforce it\n",
        "# import org.apache.spark.sql.functions.{to_date, to_timestamp}\n",
        "review_id_table_df = user_data_df.select([\"review_id\", \"customer_id\", \"product_id\", \"product_parent\", \"review_date\"])\n",
        "# review_id_table_df = review_id_table_df.withColumn(\"review_date\", to_date($\"review_date\", \"yyyy-mm-dd\"))\n",
        "review_id_table_df.show()"
      ],
      "metadata": {
        "colab": {
          "base_uri": "https://localhost:8080/"
        },
        "id": "_51sGK6oyozv",
        "outputId": "5a622cb3-9cfc-48dd-9a6a-0fbca5a97998"
      },
      "execution_count": null,
      "outputs": [
        {
          "output_type": "stream",
          "name": "stdout",
          "text": [
            "+--------------+-----------+----------+--------------+-----------+\n",
            "|     review_id|customer_id|product_id|product_parent|review_date|\n",
            "+--------------+-----------+----------+--------------+-----------+\n",
            "|R3EFW2STIYIY0I|   42605767|B00MUTIDKI|     248732228| 2015-08-31|\n",
            "|R12NR0R5A9F7FT|   51771800|B00EPACNUG|     531462352| 2015-08-31|\n",
            "|R1LSH74R9XAP59|   16053526|B00164AZA4|     473982505| 2015-08-31|\n",
            "|R1QXUNTF76K7L6|   15319481|B00E6LIEFM|     189774198| 2015-08-31|\n",
            "|R2F7DR75PS8NKT|    1441820|B00VWEBG06|     852470365| 2015-08-31|\n",
            "|R2C1DJSCC8UFS6|   37107850|B00EP7AP7C|     279360628| 2015-08-31|\n",
            "|R1AXGS1W4YFXMX|     302120|B00OW2PET4|     729971168| 2015-08-31|\n",
            "|R1XU1B93402SYJ|   20193077|B00N4OLCRO|     776572654| 2015-08-31|\n",
            "|R2U432NB3OPVR0|   13106017|B005CELN8W|     222071424| 2015-08-31|\n",
            "|R3R6FIMIOQ5SP9|   32587108|B005CELL1G|     168801430| 2015-08-31|\n",
            "|R12TX6V09C9QNQ|   32020017|B00H09BOXQ|     455502995| 2015-08-31|\n",
            "|R33UCII6YKUMKV|   13376158|B00MCLGAAO|     652069521| 2015-08-31|\n",
            "| RZKDAB9TGO053|   47098110|B00P6U8C5Y|     871602905| 2015-08-31|\n",
            "|R2EMN2EEDN73ZA|   24083274|B00MA5TPN6|     299038085| 2015-08-31|\n",
            "| RU9LHN1NJDVOI|   41137196|B000EQ868I|     534229510| 2015-08-31|\n",
            "|R19910SO17BQUE|   18003829|B00MYXTCMI|      42668324| 2015-08-31|\n",
            "|R32N10BW8MH847|   14460749|B008PIQXP0|     116724371| 2015-08-31|\n",
            "| R2DNM85DH7FGK|   12641855|B00KAFOXXU|     471261945| 2015-08-31|\n",
            "|R2G9RFFW051RWY|   13775565|B00OKSOLE4|     694520847| 2015-08-31|\n",
            "|R26CC1STPSUHBS|   31044774|B01019T6O0|     510976915| 2015-08-31|\n",
            "+--------------+-----------+----------+--------------+-----------+\n",
            "only showing top 20 rows\n",
            "\n"
          ]
        }
      ]
    },
    {
      "cell_type": "code",
      "source": [
        "#vine table. No changes needed\n",
        "vine_table_df=user_data_df.select([\"review_id\", \"star_rating\",\"helpful_votes\", \"total_votes\",\"vine\"])\n",
        "vine_table_df.show()"
      ],
      "metadata": {
        "colab": {
          "base_uri": "https://localhost:8080/"
        },
        "id": "ZrOVdrmJ0D9W",
        "outputId": "74d4884f-ce00-45fb-ae79-f34d2c5320e1"
      },
      "execution_count": null,
      "outputs": [
        {
          "output_type": "stream",
          "name": "stdout",
          "text": [
            "+--------------+-----------+-------------+-----------+----+\n",
            "|     review_id|star_rating|helpful_votes|total_votes|vine|\n",
            "+--------------+-----------+-------------+-----------+----+\n",
            "|R3EFW2STIYIY0I|          1|            2|          2|   N|\n",
            "|R12NR0R5A9F7FT|          5|            0|          0|   N|\n",
            "|R1LSH74R9XAP59|          2|            0|          1|   N|\n",
            "|R1QXUNTF76K7L6|          2|            0|          0|   N|\n",
            "|R2F7DR75PS8NKT|          5|            0|          0|   N|\n",
            "|R2C1DJSCC8UFS6|          3|            0|          0|   N|\n",
            "|R1AXGS1W4YFXMX|          1|            0|          2|   N|\n",
            "|R1XU1B93402SYJ|          1|            1|          1|   N|\n",
            "|R2U432NB3OPVR0|          5|            0|          0|   N|\n",
            "|R3R6FIMIOQ5SP9|          5|            0|          0|   N|\n",
            "|R12TX6V09C9QNQ|          5|            0|          0|   N|\n",
            "|R33UCII6YKUMKV|          3|            2|          2|   N|\n",
            "| RZKDAB9TGO053|          1|            0|          0|   N|\n",
            "|R2EMN2EEDN73ZA|          4|            0|          0|   N|\n",
            "| RU9LHN1NJDVOI|          5|            0|          0|   N|\n",
            "|R19910SO17BQUE|          5|            0|          0|   N|\n",
            "|R32N10BW8MH847|          4|            2|          4|   N|\n",
            "| R2DNM85DH7FGK|          5|            0|          2|   N|\n",
            "|R2G9RFFW051RWY|          5|            0|          0|   N|\n",
            "|R26CC1STPSUHBS|          1|           27|         39|   N|\n",
            "+--------------+-----------+-------------+-----------+----+\n",
            "only showing top 20 rows\n",
            "\n"
          ]
        }
      ]
    },
    {
      "cell_type": "code",
      "source": [
        "#Customer id and their  count\n",
        "df=user_data_df.select([\"customer_id\"])\n",
        "customers_df=df.groupBy(\"customer_id\").count()\n",
        "customers_df=customers_df.withColumnRenamed(\"count\",\"customer_count\")\n",
        "customers_df.show()"
      ],
      "metadata": {
        "colab": {
          "base_uri": "https://localhost:8080/"
        },
        "id": "eY05HraSepPz",
        "outputId": "a2f89b47-6fa8-4e58-f4fd-63eb3670dc6c"
      },
      "execution_count": null,
      "outputs": [
        {
          "output_type": "stream",
          "name": "stdout",
          "text": [
            "+-----------+--------------+\n",
            "|customer_id|customer_count|\n",
            "+-----------+--------------+\n",
            "|   15634680|             1|\n",
            "|   44696507|             1|\n",
            "|   19901367|             1|\n",
            "|   11337682|             1|\n",
            "|   52021773|             1|\n",
            "|   29916198|             1|\n",
            "|   42030944|             1|\n",
            "|   52765209|             1|\n",
            "|   13519509|             2|\n",
            "|   39320350|             5|\n",
            "|   23249582|             1|\n",
            "|   46351928|             3|\n",
            "|   44179620|             1|\n",
            "|     637252|             1|\n",
            "|   34038793|             1|\n",
            "|   51136490|             1|\n",
            "|   49354815|             1|\n",
            "|     149761|             2|\n",
            "|   43333798|             1|\n",
            "|    4657027|             1|\n",
            "+-----------+--------------+\n",
            "only showing top 20 rows\n",
            "\n"
          ]
        }
      ]
    },
    {
      "cell_type": "markdown",
      "source": [
        ""
      ],
      "metadata": {
        "id": "dNq8oz3aAOdd"
      }
    },
    {
      "cell_type": "code",
      "source": [
        "#Verify the schema matches with what was provided. \n",
        "\n",
        "mode = \"overwrite\"  #Cant be override\n",
        "jdbc_url=\"jdbc:postgresql://database-1.cbrsr6wychlr.us-west-1.rds.amazonaws.com:5432/software_db\"\n",
        "config = {\"user\":\"postgres\", \n",
        "          \"password\": \"postgres\", \n",
        "          \"driver\":\"org.postgresql.Driver\"}"
      ],
      "metadata": {
        "id": "P6KqtJBgpdss"
      },
      "execution_count": null,
      "outputs": []
    },
    {
      "cell_type": "markdown",
      "source": [
        ""
      ],
      "metadata": {
        "id": "vJE1KX8xPQav"
      }
    },
    {
      "cell_type": "code",
      "source": [
        "review_id_table_df.createOrReplaceTempView(\"review_id_view1\")\n",
        "review_id_table_df = spark.sql('''\n",
        "SELECT \n",
        "review_id, customer_id, product_id, product_parent, DATE(review_date)\n",
        "FROM review_id_view1\n",
        "''')\n",
        "review_id_table_df1=review_id_table_df.select('review_id').distinct()\n",
        "\n",
        "review_id_table_df1.printSchema()"
      ],
      "metadata": {
        "colab": {
          "base_uri": "https://localhost:8080/"
        },
        "id": "e8sw67ZFVume",
        "outputId": "03dc6f7a-20d9-43a0-eb5b-3365118adbb6"
      },
      "execution_count": null,
      "outputs": [
        {
          "output_type": "stream",
          "name": "stdout",
          "text": [
            "root\n",
            " |-- review_id: string (nullable = true)\n",
            "\n"
          ]
        }
      ]
    },
    {
      "cell_type": "code",
      "source": [
        "review_id_table_df.write.jdbc(url=jdbc_url, table='review_id_table', mode=mode, properties=config)"
      ],
      "metadata": {
        "id": "iXIJKvUZ7z51"
      },
      "execution_count": null,
      "outputs": []
    },
    {
      "cell_type": "code",
      "source": [
        "products_df.createOrReplaceTempView(\"products_view\") \n",
        "\n",
        "\n",
        "  "
      ],
      "metadata": {
        "id": "qAoWDvgKRoyQ"
      },
      "execution_count": null,
      "outputs": []
    },
    {
      "cell_type": "code",
      "source": [
        "# products_df = spark.sql('''\n",
        "# SELECT \n",
        "#  product_id , product_title \n",
        "# FROM products_view where product_id == \"B0022ZYS2C\"''')\n",
        "products_df = spark.sql('''\n",
        "SELECT DISTINCT product_id, product_title\n",
        "FROM products_view\n",
        "ORDER BY product_id''')\n",
        "products_df.count()"
      ],
      "metadata": {
        "colab": {
          "base_uri": "https://localhost:8080/"
        },
        "id": "nLozQztrn1uh",
        "outputId": "1f9c5bde-655d-4ad3-c3b5-f61ee3bed6f4"
      },
      "execution_count": null,
      "outputs": [
        {
          "output_type": "execute_result",
          "data": {
            "text/plain": [
              "28736"
            ]
          },
          "metadata": {},
          "execution_count": 17
        }
      ]
    },
    {
      "cell_type": "code",
      "source": [
        "products_df.schema"
      ],
      "metadata": {
        "colab": {
          "base_uri": "https://localhost:8080/"
        },
        "id": "OWTCBcBxsTG1",
        "outputId": "bfd812b6-4093-4ba2-ec11-274fe552586d"
      },
      "execution_count": null,
      "outputs": [
        {
          "output_type": "execute_result",
          "data": {
            "text/plain": [
              "StructType(List(StructField(product_id,StringType,true),StructField(product_title,StringType,true)))"
            ]
          },
          "metadata": {},
          "execution_count": 18
        }
      ]
    },
    {
      "cell_type": "code",
      "source": [
        "products_df.write.jdbc(url=jdbc_url, table='products', mode=mode, properties=config)\n"
      ],
      "metadata": {
        "id": "qPatMk2-AqOg"
      },
      "execution_count": null,
      "outputs": []
    },
    {
      "cell_type": "code",
      "source": [
        "customers_df.write.jdbc(url=jdbc_url, table='customers', mode=mode, properties=config)"
      ],
      "metadata": {
        "id": "ZQOlPM2S8H5N"
      },
      "execution_count": null,
      "outputs": []
    },
    {
      "cell_type": "code",
      "source": [
        "vine_table_df.write.jdbc(url=jdbc_url, table='vine_table', mode=mode, properties=config)"
      ],
      "metadata": {
        "id": "WHN2PfLc7zMO"
      },
      "execution_count": null,
      "outputs": []
    },
    {
      "cell_type": "code",
      "source": [
        "display(review_id_table_df)"
      ],
      "metadata": {
        "id": "-3iqXzvK6xBK",
        "colab": {
          "base_uri": "https://localhost:8080/",
          "height": 34
        },
        "outputId": "ea95e7d8-3b6f-45ec-fb1a-215c7da9af7f"
      },
      "execution_count": null,
      "outputs": [
        {
          "output_type": "display_data",
          "data": {
            "text/plain": [
              "DataFrame[review_id: string, customer_id: int, product_id: string, product_parent: int, review_date: date]"
            ]
          },
          "metadata": {}
        }
      ]
    },
    {
      "cell_type": "code",
      "source": [
        "# df=spark.read.jdbc(url=jdbc_url, table='products', properties=config)\n",
        "# products_df = spark.createDataFrame(products_df.rdd, schema=df.schema)\n",
        "# products_df.show()"
      ],
      "metadata": {
        "id": "hKf2EjSct8sR"
      },
      "execution_count": null,
      "outputs": []
    },
    {
      "cell_type": "code",
      "source": [
        "# df=spark.read.jdbc(url=jdbc_url, table='customers', properties=config)\n",
        "# customers_df = spark.createDataFrame(customers_df.rdd, schema=df.schema)\n",
        "# customers_df.show()"
      ],
      "metadata": {
        "id": "bSNQKXVzu-_k"
      },
      "execution_count": null,
      "outputs": []
    },
    {
      "cell_type": "code",
      "source": [
        "# df=spark.read.jdbc(url=jdbc_url, table='vine_table', properties=config)\n",
        "# vine_table_df = spark.createDataFrame(vine_table_df.rdd, schema=df.schema)\n",
        "# vine_table_df.show()"
      ],
      "metadata": {
        "id": "_-79iHvcvRL_"
      },
      "execution_count": null,
      "outputs": []
    },
    {
      "cell_type": "code",
      "source": [
        ""
      ],
      "metadata": {
        "id": "DWlCToGMvoFQ"
      },
      "execution_count": null,
      "outputs": []
    }
  ]
}